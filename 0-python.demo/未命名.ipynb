{
 "cells": [
  {
   "cell_type": "code",
   "execution_count": 1,
   "metadata": {},
   "outputs": [],
   "source": [
    "import requests"
   ]
  },
  {
   "cell_type": "code",
   "execution_count": 3,
   "metadata": {},
   "outputs": [
    {
     "data": {
      "text/plain": [
       "<Response [200]>"
      ]
     },
     "execution_count": 3,
     "metadata": {},
     "output_type": "execute_result"
    }
   ],
   "source": [
    "r=requests.get('https://www.baidu.com')\n",
    "r"
   ]
  },
  {
   "cell_type": "code",
   "execution_count": 4,
   "metadata": {},
   "outputs": [
    {
     "data": {
      "text/plain": [
       "'<!DOCTYPE html>\\r\\n<!--STATUS OK--><html> <head><meta http-equiv=content-type content=text/html;charset=utf-8><meta http-equiv=X-UA-Compatible content=IE=Edge><meta content=always name=referrer><link rel=stylesheet type=text/css href=https://ss1.bdstatic.com/5eN1bjq8AAUYm2zgoY3K/r/www/cache/bdorz/baidu.min.css><title>ç\\x99¾åº¦ä¸\\x80ä¸\\x8bï¼\\x8cä½\\xa0å°±ç\\x9f¥é\\x81\\x93</title></head> <body link=#0000cc> <div id=wrapper> <div id=head> <div class=head_wrapper> <div class=s_form> <div class=s_form_wrapper> <div id=lg> <img hidefocus=true src=//www.baidu.com/img/bd_logo1.png width=270 height=129> </div> <form id=form name=f action=//www.baidu.com/s class=fm> <input type=hidden name=bdorz_come value=1> <input type=hidden name=ie value=utf-8> <input type=hidden name=f value=8> <input type=hidden name=rsv_bp value=1> <input type=hidden name=rsv_idx value=1> <input type=hidden name=tn value=baidu><span class=\"bg s_ipt_wr\"><input id=kw name=wd class=s_ipt value maxlength=255 autocomplete=off autofocus=autofocus></span><span class=\"bg s_btn_wr\"><input type=submit id=su value=ç\\x99¾åº¦ä¸\\x80ä¸\\x8b class=\"bg s_btn\" autofocus></span> </form> </div> </div> <div id=u1> <a href=http://news.baidu.com name=tj_trnews class=mnav>æ\\x96°é\\x97»</a> <a href=https://www.hao123.com name=tj_trhao123 class=mnav>hao123</a> <a href=http://map.baidu.com name=tj_trmap class=mnav>å\\x9c°å\\x9b¾</a> <a href=http://v.baidu.com name=tj_trvideo class=mnav>è§\\x86é¢\\x91</a> <a href=http://tieba.baidu.com name=tj_trtieba class=mnav>è´´å\\x90§</a> <noscript> <a href=http://www.baidu.com/bdorz/login.gif?login&amp;tpl=mn&amp;u=http%3A%2F%2Fwww.baidu.com%2f%3fbdorz_come%3d1 name=tj_login class=lb>ç\\x99»å½\\x95</a> </noscript> <script>document.write(\\'<a href=\"http://www.baidu.com/bdorz/login.gif?login&tpl=mn&u=\\'+ encodeURIComponent(window.location.href+ (window.location.search === \"\" ? \"?\" : \"&\")+ \"bdorz_come=1\")+ \\'\" name=\"tj_login\" class=\"lb\">ç\\x99»å½\\x95</a>\\');\\r\\n                </script> <a href=//www.baidu.com/more/ name=tj_briicon class=bri style=\"display: block;\">æ\\x9b´å¤\\x9aäº§å\\x93\\x81</a> </div> </div> </div> <div id=ftCon> <div id=ftConw> <p id=lh> <a href=http://home.baidu.com>å\\x85³äº\\x8eç\\x99¾åº¦</a> <a href=http://ir.baidu.com>About Baidu</a> </p> <p id=cp>&copy;2017&nbsp;Baidu&nbsp;<a href=http://www.baidu.com/duty/>ä½¿ç\\x94¨ç\\x99¾åº¦å\\x89\\x8då¿\\x85è¯»</a>&nbsp; <a href=http://jianyi.baidu.com/ class=cp-feedback>æ\\x84\\x8fè§\\x81å\\x8f\\x8dé¦\\x88</a>&nbsp;äº¬ICPè¯\\x81030173å\\x8f·&nbsp; <img src=//www.baidu.com/img/gs.gif> </p> </div> </div> </div> </body> </html>\\r\\n'"
      ]
     },
     "execution_count": 4,
     "metadata": {},
     "output_type": "execute_result"
    }
   ],
   "source": [
    "r.text"
   ]
  },
  {
   "cell_type": "code",
   "execution_count": 5,
   "metadata": {},
   "outputs": [
    {
     "data": {
      "text/plain": [
       "'ISO-8859-1'"
      ]
     },
     "execution_count": 5,
     "metadata": {},
     "output_type": "execute_result"
    }
   ],
   "source": [
    "r.encoding"
   ]
  },
  {
   "cell_type": "code",
   "execution_count": 6,
   "metadata": {},
   "outputs": [
    {
     "data": {
      "text/plain": [
       "<urllib3.response.HTTPResponse at 0x10b000b38>"
      ]
     },
     "execution_count": 6,
     "metadata": {},
     "output_type": "execute_result"
    }
   ],
   "source": [
    "r.raw"
   ]
  },
  {
   "cell_type": "code",
   "execution_count": 7,
   "metadata": {},
   "outputs": [
    {
     "data": {
      "text/plain": [
       "200"
      ]
     },
     "execution_count": 7,
     "metadata": {},
     "output_type": "execute_result"
    }
   ],
   "source": [
    "r.status_code"
   ]
  },
  {
   "cell_type": "code",
   "execution_count": 9,
   "metadata": {},
   "outputs": [
    {
     "data": {
      "text/plain": [
       "200"
      ]
     },
     "execution_count": 9,
     "metadata": {},
     "output_type": "execute_result"
    }
   ],
   "source": [
    "requests.codes.ok"
   ]
  },
  {
   "cell_type": "code",
   "execution_count": 10,
   "metadata": {},
   "outputs": [
    {
     "data": {
      "text/plain": [
       "{'Cache-Control': 'private, no-cache, no-store, proxy-revalidate, no-transform', 'Connection': 'Keep-Alive', 'Content-Encoding': 'gzip', 'Content-Type': 'text/html', 'Date': 'Sun, 24 Mar 2019 17:12:03 GMT', 'Last-Modified': 'Mon, 23 Jan 2017 13:23:50 GMT', 'Pragma': 'no-cache', 'Server': 'bfe/1.0.8.18', 'Set-Cookie': 'BDORZ=27315; max-age=86400; domain=.baidu.com; path=/', 'Transfer-Encoding': 'chunked'}"
      ]
     },
     "execution_count": 10,
     "metadata": {},
     "output_type": "execute_result"
    }
   ],
   "source": [
    "r.headers"
   ]
  },
  {
   "cell_type": "code",
   "execution_count": 13,
   "metadata": {},
   "outputs": [
    {
     "data": {
      "text/plain": [
       "requests.structures.CaseInsensitiveDict"
      ]
     },
     "execution_count": 13,
     "metadata": {},
     "output_type": "execute_result"
    }
   ],
   "source": [
    "type(r.headers)"
   ]
  },
  {
   "cell_type": "code",
   "execution_count": 14,
   "metadata": {},
   "outputs": [
    {
     "data": {
      "text/plain": [
       "requests.models.Response"
      ]
     },
     "execution_count": 14,
     "metadata": {},
     "output_type": "execute_result"
    }
   ],
   "source": [
    "type(r)"
   ]
  },
  {
   "cell_type": "code",
   "execution_count": 16,
   "metadata": {},
   "outputs": [
    {
     "data": {
      "text/plain": [
       "True"
      ]
     },
     "execution_count": 16,
     "metadata": {},
     "output_type": "execute_result"
    }
   ],
   "source": [
    "isinstance([],list)"
   ]
  },
  {
   "cell_type": "code",
   "execution_count": 17,
   "metadata": {},
   "outputs": [
    {
     "data": {
      "text/plain": [
       "True"
      ]
     },
     "execution_count": 17,
     "metadata": {},
     "output_type": "execute_result"
    }
   ],
   "source": [
    "isinstance({'a':'1'},dict)"
   ]
  },
  {
   "cell_type": "code",
   "execution_count": 19,
   "metadata": {},
   "outputs": [
    {
     "data": {
      "text/plain": [
       "False"
      ]
     },
     "execution_count": 19,
     "metadata": {},
     "output_type": "execute_result"
    }
   ],
   "source": [
    "isinstance(r.headers,dict)"
   ]
  },
  {
   "cell_type": "code",
   "execution_count": 20,
   "metadata": {},
   "outputs": [
    {
     "data": {
      "text/plain": [
       "[]"
      ]
     },
     "execution_count": 20,
     "metadata": {},
     "output_type": "execute_result"
    }
   ],
   "source": [
    "r.history"
   ]
  },
  {
   "cell_type": "code",
   "execution_count": 21,
   "metadata": {},
   "outputs": [
    {
     "data": {
      "text/plain": [
       "'https://www.baidu.com/'"
      ]
     },
     "execution_count": 21,
     "metadata": {},
     "output_type": "execute_result"
    }
   ],
   "source": [
    "r.url"
   ]
  },
  {
   "cell_type": "code",
   "execution_count": 23,
   "metadata": {},
   "outputs": [
    {
     "name": "stdout",
     "output_type": "stream",
     "text": [
      "b'<!DOCTYPE html>\\r\\n<!--STATUS OK--><html> <head><meta http-equiv=content-type content=text/html;charset=utf-8><meta http-equiv=X-U'\n",
      "b'A-Compatible content=IE=Edge><meta content=always name=referrer><link rel=stylesheet type=text/css href=https://ss1.bdstatic.com'\n",
      "b'/5eN1bjq8AAUYm2zgoY3K/r/www/cache/bdorz/baidu.min.css><title>\\xe7\\x99\\xbe\\xe5\\xba\\xa6\\xe4\\xb8\\x80\\xe4\\xb8\\x8b\\xef\\xbc\\x8c\\xe4\\xbd\\xa0\\xe5\\xb0\\xb1\\xe7\\x9f\\xa5\\xe9\\x81\\x93</title></head> <body link=#0000cc> <div'\n",
      "b' id=wrapper> <div id=head> <div class=head_wrapper> <div class=s_form> <div class=s_form_wrapper> <div id=lg> <img hidefocus=tru'\n",
      "b'e src=//www.baidu.com/img/bd_logo1.png width=270 height=129> </div> <form id=form name=f action=//www.baidu.com/s class=fm> <inp'\n",
      "b'ut type=hidden name=bdorz_come value=1> <input type=hidden name=ie value=utf-8> <input type=hidden name=f value=8> <input type=h'\n",
      "b'idden name=rsv_bp value=1> <input type=hidden name=rsv_idx value=1> <input type=hidden name=tn value=baidu><span class=\"bg s_ipt'\n",
      "b'_wr\"><input id=kw name=wd class=s_ipt value maxlength=255 autocomplete=off autofocus=autofocus></span><span class=\"bg s_btn_wr\">'\n",
      "b'<input type=submit id=su value=\\xe7\\x99\\xbe\\xe5\\xba\\xa6\\xe4\\xb8\\x80\\xe4\\xb8\\x8b class=\"bg s_btn\" autofocus></span> </form> </div> </div> <div id=u1> <a href=http://'\n",
      "b'news.baidu.com name=tj_trnews class=mnav>\\xe6\\x96\\xb0\\xe9\\x97\\xbb</a> <a href=https://www.hao123.com name=tj_trhao123 class=mnav>hao123</a> <a hre'\n",
      "b'f=http://map.baidu.com name=tj_trmap class=mnav>\\xe5\\x9c\\xb0\\xe5\\x9b\\xbe</a> <a href=http://v.baidu.com name=tj_trvideo class=mnav>\\xe8\\xa7\\x86\\xe9\\xa2\\x91</a> <a h'\n",
      "b'ref=http://tieba.baidu.com name=tj_trtieba class=mnav>\\xe8\\xb4\\xb4\\xe5\\x90\\xa7</a> <noscript> <a href=http://www.baidu.com/bdorz/login.gif?login&a'\n",
      "b'mp;tpl=mn&amp;u=http%3A%2F%2Fwww.baidu.com%2f%3fbdorz_come%3d1 name=tj_login class=lb>\\xe7\\x99\\xbb\\xe5\\xbd\\x95</a> </noscript> <script>document.wr'\n",
      "b'ite(\\'<a href=\"http://www.baidu.com/bdorz/login.gif?login&tpl=mn&u=\\'+ encodeURIComponent(window.location.href+ (window.location.s'\n",
      "b'earch === \"\" ? \"?\" : \"&\")+ \"bdorz_come=1\")+ \\'\" name=\"tj_login\" class=\"lb\">\\xe7\\x99\\xbb\\xe5\\xbd\\x95</a>\\');\\r\\n                </script> <a href=//www'\n",
      "b'.baidu.com/more/ name=tj_briicon class=bri style=\"display: block;\">\\xe6\\x9b\\xb4\\xe5\\xa4\\x9a\\xe4\\xba\\xa7\\xe5\\x93\\x81</a> </div> </div> </div> <div id=ftCon> <div id='\n",
      "b'ftConw> <p id=lh> <a href=http://home.baidu.com>\\xe5\\x85\\xb3\\xe4\\xba\\x8e\\xe7\\x99\\xbe\\xe5\\xba\\xa6</a> <a href=http://ir.baidu.com>About Baidu</a> </p> <p id=cp>&copy'\n",
      "b';2017&nbsp;Baidu&nbsp;<a href=http://www.baidu.com/duty/>\\xe4\\xbd\\xbf\\xe7\\x94\\xa8\\xe7\\x99\\xbe\\xe5\\xba\\xa6\\xe5\\x89\\x8d\\xe5\\xbf\\x85\\xe8\\xaf\\xbb</a>&nbsp; <a href=http://jianyi.baidu.com/ class='\n",
      "b'cp-feedback>\\xe6\\x84\\x8f\\xe8\\xa7\\x81\\xe5\\x8f\\x8d\\xe9\\xa6\\x88</a>&nbsp;\\xe4\\xba\\xacICP\\xe8\\xaf\\x81030173\\xe5\\x8f\\xb7&nbsp; <img src=//www.baidu.com/img/gs.gif> </p> </div> </div> </div> </body'\n",
      "b'> </html>\\r\\n'\n"
     ]
    }
   ],
   "source": []
  },
  {
   "cell_type": "code",
   "execution_count": 25,
   "metadata": {},
   "outputs": [
    {
     "data": {
      "text/plain": [
       "{'Cache-Control': 'private, no-cache, no-store, proxy-revalidate, no-transform', 'Connection': 'Keep-Alive', 'Content-Encoding': 'gzip', 'Content-Type': 'text/html', 'Date': 'Sun, 24 Mar 2019 17:12:03 GMT', 'Last-Modified': 'Mon, 23 Jan 2017 13:23:50 GMT', 'Pragma': 'no-cache', 'Server': 'bfe/1.0.8.18', 'Set-Cookie': 'BDORZ=27315; max-age=86400; domain=.baidu.com; path=/', 'Transfer-Encoding': 'chunked'}"
      ]
     },
     "execution_count": 25,
     "metadata": {},
     "output_type": "execute_result"
    }
   ],
   "source": [
    "r.headers"
   ]
  },
  {
   "cell_type": "code",
   "execution_count": 28,
   "metadata": {},
   "outputs": [],
   "source": [
    "url = 'https://developer.github.com/v3\"'\n",
    "headers = {'user-agent': 'my-app/0.0.1'}\n",
    "r1=requests.get(url,headers=headers)"
   ]
  },
  {
   "cell_type": "code",
   "execution_count": 29,
   "metadata": {},
   "outputs": [
    {
     "data": {
      "text/plain": [
       "'<!DOCTYPE html>\\n<html lang=\"en\" prefix=\"og: http://ogp.me/ns#\">\\n<head>\\n  <meta http-equiv=\"Content-Type\" content=\"text/html; charset=UTF-8\" />\\n  <meta http-equiv=\"Content-Language\" content=\"en-us\" />\\n  <meta http-equiv=\"imagetoolbar\" content=\"false\" />\\n  <meta name=\"MSSmartTagsPreventParsing\" content=\"true\" />\\n  <meta name=\"viewport\" content=\"width=device-width,initial-scale=1\">\\n  <title>GitHub Developer Site • Article not found! | GitHub Developer Guide</title>\\n  <meta property=\"og:url\" content=\"https://developer.github.com/404.html\" />\\n<meta property=\"og:site_name\" content=\"GitHub Developer\" />\\n<meta property=\"og:title\" content=\"GitHub Developer Site • Article not found!\" />\\n<meta property=\"og:description\" content=\"Get started with one of our guides, or jump straight into the API documentation.\" />\\n<meta property=\"og:type\" content=\"website\" />\\n<meta property=\"og:author\" content=\"https://www.facebook.com/GitHub\" />\\n<meta property=\"og:image\" content=\"https://og.github.com/logo/github-logo@1200x1200.png\" />\\n<meta property=\"og:image:width\" content=\"1200\" />\\n<meta property=\"og:image:height\" content=\"1200\" />\\n<meta property=\"og:image\" content=\"https://og.github.com/mark/github-mark@1200x630.png\" />\\n<meta property=\"og:image:width\" content=\"1200\" />\\n<meta property=\"og:image:height\" content=\"630\" />\\n<meta property=\"og:image\" content=\"https://og.github.com/octocat/github-octocat@1200x630.png\" />\\n<meta property=\"og:image:width\" content=\"1200\" />\\n<meta property=\"og:image:height\" content=\"630\" />\\n<meta property=\"twitter:card\" content=\"summary_large_image\" />\\n<meta property=\"twitter:site\" content=\"@github\" />\\n<meta property=\"twitter:site:id\" content=\"13334762\" />\\n<meta property=\"twitter:creator\" content=\"@githubapi\" />\\n<meta property=\"twitter:creator:id\" content=\"@539153822\" />\\n<meta property=\"twitter:title\" content=\"GitHub Developer Site • Article not found!\" />\\n<meta property=\"twitter:description\" content=\"Get started with one of our guides, or jump straight into the API documentation.\" />\\n<meta property=\"twitter:image:src\" content=\"https://og.github.com/logo/github-logo@1200x1200.png\" />\\n<meta property=\"twitter:image:width\" content=\"1200\" />\\n<meta property=\"twitter:image:height\" content=\"1200\" />\\n\\n  \\n  <link rel=\"alternate\" type=\"application/atom+xml\" title=\"API Changes\" href=\"/changes.atom\" />\\n  \\n  <link rel=\"stylesheet\" href=\"https://fonts.googleapis.com/css?family=Roboto:400,300,400italic,500\">\\n  <link href=\"/assets/stylesheets/application.css\" rel=\"stylesheet\" type=\"text/css\" />\\n  <script src=\"https://ajax.googleapis.com/ajax/libs/jquery/2.1.4/jquery.min.js\"></script>\\n  <script src=\"/assets/javascripts/application.js\" type=\"text/javascript\"></script>\\n  \\n</head>\\n\\n\\n<body class=\"\">\\n  \\n\\n<header class=\"site-header\">\\n  <div id=\"header\" class=\"container\">\\n    <a class=\"site-header-logo mt-1\" href=\"/\"><img src=\"/assets/images/github-developer-logo.svg\" alt=\"GitHub Developer\"></a>\\n    <nav class=\"site-header-nav\" aria-label=\"Main Navigation\">\\n      <div class=\"dropdown\" id=\"api-docs-dropdown\">\\n          <div class=\"dropdown-button\" tabIndex=\"0\" aria-haspopup=\"true\" aria-expanded=\"false\"><span class=\"dropdown-button-link\" tabIndex=\"-1\">Docs</span> <div class=\"dropdown-caret\"></div></div>\\n          <div id=\"js-dropdown-menu\" class=\"dropdown-menu\">\\n            <a class=\"dropdown-menu-item\" href=\"/apps/\">Apps</a>\\n            <a class=\"dropdown-menu-item\" href=\"/actions/\">GitHub Actions</a>\\n            <a class=\"dropdown-menu-item\" href=\"/marketplace/\">GitHub Marketplace</a>\\n            <a class=\"dropdown-menu-item\" href=\"/webhooks/\">Webhooks</a>\\n            <a class=\"dropdown-menu-item\" href=\"/v3/\">REST API v3</a>\\n            <a class=\"dropdown-menu-item\" href=\"/v4/\">GraphQL API v4</a>\\n          </div>\\n      </div>\\n      <a class=\"site-header-nav-item\" href=\"/changes/\">Blog</a>\\n      <a class=\"site-header-nav-item\" href=\"/forum/\">Forum</a>\\n      <div class=\"dropdown\" id=\"versions-dropdown\">\\n          <div class=\"dropdown-button\" tabIndex=\"0\" aria-haspopup=\"true\" aria-expanded=\"false\"><span class=\"dropdown-button-link\" tabIndex=\"-1\">Versions</span> <div class=\"dropdown-caret\"></div></div>\\n          <div id=\"js-dropdown-menu\" class=\"dropdown-menu\">\\n            <a class=\"dropdown-menu-item\" data-proofer-ignore>GitHub.com</a>\\n            \\n            \\n            <a class=\"dropdown-menu-item\" data-proofer-ignore>GitHub Enterprise Server 2.16</a>\\n            \\n            \\n            \\n            <a class=\"dropdown-menu-item\" data-proofer-ignore>GitHub Enterprise 2.15</a>\\n            \\n            \\n            \\n            <a class=\"dropdown-menu-item\" data-proofer-ignore>GitHub Enterprise 2.14</a>\\n            \\n            \\n            \\n            <a class=\"dropdown-menu-item\" data-proofer-ignore>GitHub Enterprise 2.13</a>\\n            \\n            \\n          </div>\\n      </div>\\n      <form accept-charset=\"UTF-8\" action=\"#\" class=\"site-header-nav-item site-header-search\">\\n        <label id=\"search-container\" class=\"mb-0\">\\n          <input type=\"text\" id=\"searchfield\" class=\"form-control\" placeholder=\"Search…\"\\n            autocomplete=\"off\" autocorrect=\"off\" autocapitalize=\"off\" spellcheck=\"false\" />\\n          <div class=\"cancel-search\"></div>\\n          <ul id=\"search-results\"></ul>\\n        </label>\\n      </form>\\n    </nav>\\n  </div>\\n</header>\\n\\n  \\n\\n\\n\\n\\n\\n\\n\\n\\n\\n\\n\\n\\n\\n\\n\\n\\n\\n\\n\\n\\n\\n\\n\\n\\n\\n\\n  <div class=\"container\">\\n    <section class=\"main pt-5 clearfix gut-3\" role=\"main\">\\n      <div class=\"content col-md-8\">\\n        <div class=\"not-found-container\">\\n  <h2>\\n<a id=\"whoops-looks-like-that-page-doesnt-exist\" class=\"anchor\" href=\"#whoops-looks-like-that-page-doesnt-exist\" aria-hidden=\"true\"><span aria-hidden=\"true\" class=\"octicon octicon-link\"></span></a>Whoops, looks like that page doesn\\'t exist.</h2>\\n</div>\\n      </div>\\n    </section>\\n  </div>\\n\\n  <footer class=\"footer text-muted\">\\n  <div class=\"container\">\\n    <span class=\"footer-legal\">&copy; 2019 GitHub Inc. All rights reserved.</span>\\n    <span class=\"mega-octicon octicon-mark-github footer-mark\"></span>\\n    <nav class=\"footer-nav\">\\n      <a class=\"footer-nav-item\" href=\"https://help.github.com/articles/github-terms-of-service\">Terms of service</a>\\n      <a class=\"footer-nav-item\" href=\"https://github.com/site/privacy\">Privacy</a>\\n      <a class=\"footer-nav-item\" href=\"https://github.com/security\">Security</a>\\n      <a class=\"footer-nav-item\" href=\"https://github.com/support\">Support</a>\\n    </nav>\\n  </div>\\n</footer>\\n\\n<script>\\n  (function(i,s,o,g,r,a,m){i[\\'GoogleAnalyticsObject\\']=r;i[r]=i[r]||function(){\\n  (i[r].q=i[r].q||[]).push(arguments)},i[r].l=1*new Date();a=s.createElement(o),\\n  m=s.getElementsByTagName(o)[0];a.async=1;a.src=g;m.parentNode.insertBefore(a,m)\\n  })(window,document,\\'script\\',\\'//www.google-analytics.com/analytics.js\\',\\'ga\\');\\n\\n  ga(\\'create\\', \\'UA-3769691-37\\', \\'github.com\\');\\n  ga(\\'send\\', \\'pageview\\');\\n</script>\\n\\n</body>\\n</html>\\n'"
      ]
     },
     "execution_count": 29,
     "metadata": {},
     "output_type": "execute_result"
    }
   ],
   "source": [
    "r1.text"
   ]
  },
  {
   "cell_type": "code",
   "execution_count": 30,
   "metadata": {},
   "outputs": [
    {
     "data": {
      "text/plain": [
       "'utf-8'"
      ]
     },
     "execution_count": 30,
     "metadata": {},
     "output_type": "execute_result"
    }
   ],
   "source": [
    "r1.encoding"
   ]
  },
  {
   "cell_type": "code",
   "execution_count": null,
   "metadata": {},
   "outputs": [],
   "source": []
  }
 ],
 "metadata": {
  "kernelspec": {
   "display_name": "Python 3",
   "language": "python",
   "name": "python3"
  },
  "language_info": {
   "codemirror_mode": {
    "name": "ipython",
    "version": 3
   },
   "file_extension": ".py",
   "mimetype": "text/x-python",
   "name": "python",
   "nbconvert_exporter": "python",
   "pygments_lexer": "ipython3",
   "version": "3.7.1"
  }
 },
 "nbformat": 4,
 "nbformat_minor": 2
}
